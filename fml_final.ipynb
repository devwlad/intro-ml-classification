{
 "cells": [
  {
   "cell_type": "markdown",
   "id": "46426691",
   "metadata": {},
   "source": [
    "# Introdução à Aprendizagem de Máquina - Trabalho Final"
   ]
  },
  {
   "cell_type": "markdown",
   "id": "44baad9c",
   "metadata": {},
   "source": [
    "## 1. A base de dados \"A Large Scale Fish Dataset\""
   ]
  },
  {
   "cell_type": "code",
   "execution_count": null,
   "id": "d6a95dc6",
   "metadata": {},
   "outputs": [],
   "source": []
  },
  {
   "cell_type": "markdown",
   "id": "96b35d2c",
   "metadata": {},
   "source": [
    "## 2. Implementação original do baseline, utilizando DenseNet implementado em Keras"
   ]
  },
  {
   "cell_type": "code",
   "execution_count": null,
   "id": "da4ffac4",
   "metadata": {},
   "outputs": [],
   "source": []
  },
  {
   "cell_type": "markdown",
   "id": "50ceafe2",
   "metadata": {},
   "source": [
    "## 3. Implementação do baseline, utilizando DenseNet implementado em PyTorch"
   ]
  },
  {
   "cell_type": "code",
   "execution_count": null,
   "id": "0120f7cd",
   "metadata": {},
   "outputs": [],
   "source": []
  },
  {
   "cell_type": "markdown",
   "id": "d4db3e90",
   "metadata": {},
   "source": [
    "## 4. Classificação com o uso de SVM"
   ]
  },
  {
   "cell_type": "code",
   "execution_count": null,
   "id": "8dce6b0a",
   "metadata": {},
   "outputs": [],
   "source": []
  },
  {
   "cell_type": "markdown",
   "id": "d004dd5a",
   "metadata": {},
   "source": [
    "## 5. Aplicando a implementação original ao dataset X"
   ]
  },
  {
   "cell_type": "code",
   "execution_count": null,
   "id": "840d2534",
   "metadata": {},
   "outputs": [],
   "source": []
  },
  {
   "cell_type": "markdown",
   "id": "fd4c1bf0",
   "metadata": {},
   "source": [
    "## 6. Aplicando a implementação em PyTorch ao dataset X"
   ]
  },
  {
   "cell_type": "code",
   "execution_count": null,
   "id": "a4710989",
   "metadata": {},
   "outputs": [],
   "source": []
  },
  {
   "cell_type": "markdown",
   "id": "f7e5b9a6",
   "metadata": {},
   "source": [
    "## 7. Aplicando a implementação com SVM ao dataset X"
   ]
  },
  {
   "cell_type": "code",
   "execution_count": null,
   "id": "974c70cf",
   "metadata": {},
   "outputs": [],
   "source": []
  },
  {
   "cell_type": "markdown",
   "id": "f271520a",
   "metadata": {},
   "source": [
    "## 7. Comparando os resultados"
   ]
  },
  {
   "cell_type": "code",
   "execution_count": null,
   "id": "777d9e22",
   "metadata": {},
   "outputs": [],
   "source": []
  },
  {
   "cell_type": "markdown",
   "id": "80f8ad21",
   "metadata": {},
   "source": []
  }
 ],
 "metadata": {
  "kernelspec": {
   "display_name": "Python 3",
   "language": "python",
   "name": "python3"
  },
  "language_info": {
   "codemirror_mode": {
    "name": "ipython",
    "version": 3
   },
   "file_extension": ".py",
   "mimetype": "text/x-python",
   "name": "python",
   "nbconvert_exporter": "python",
   "pygments_lexer": "ipython3",
   "version": "3.8.5"
  }
 },
 "nbformat": 4,
 "nbformat_minor": 5
}
